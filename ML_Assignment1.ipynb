{
  "nbformat": 4,
  "nbformat_minor": 0,
  "metadata": {
    "colab": {
      "provenance": []
    },
    "kernelspec": {
      "name": "python3",
      "display_name": "Python 3"
    },
    "language_info": {
      "name": "python"
    }
  },
  "cells": [
    {
      "cell_type": "markdown",
      "source": [
        "Name: Yukthi Sravani Tummalapalli\n",
        "\n",
        "700746296\n",
        "\n",
        "Github link: https://github.com/yukthi16/Machine_Learning_Assigment1/tree/main\n",
        "\n",
        "Video Link: https://drive.google.com/file/d/1W422BBy6xWkenJQ3DX9SYMaJhUdie9mj/view?usp=sharing"
      ],
      "metadata": {
        "id": "ImxRdTN_g-Kv"
      }
    },
    {
      "cell_type": "code",
      "execution_count": 30,
      "metadata": {
        "id": "krLi3YyiLn9p"
      },
      "outputs": [],
      "source": [
        "#importing numpy\n",
        "import numpy as np"
      ]
    },
    {
      "cell_type": "markdown",
      "source": [
        "### 1.Numpy"
      ],
      "metadata": {
        "id": "a0jBsuRPd0ja"
      }
    },
    {
      "cell_type": "code",
      "source": [
        "#a.1, a.2\n",
        "arr=np.random.randint(1,20,15)\n",
        "#reshaping array\n",
        "arr=arr.reshape(3,5)\n",
        "#printing array shape\n",
        "arr.shape"
      ],
      "metadata": {
        "colab": {
          "base_uri": "https://localhost:8080/"
        },
        "id": "AyCs3WOBMaux",
        "outputId": "2952e585-a7c6-4dac-c25f-cec80442bd39"
      },
      "execution_count": 31,
      "outputs": [
        {
          "output_type": "execute_result",
          "data": {
            "text/plain": [
              "(3, 5)"
            ]
          },
          "metadata": {},
          "execution_count": 31
        }
      ]
    },
    {
      "cell_type": "code",
      "source": [
        "#a.3\n",
        "print(arr)\n",
        "#replacing maximum elements with zero\n",
        "arr[np.arange(len(arr)), arr.argmax(1)] = 0\n",
        "arr"
      ],
      "metadata": {
        "colab": {
          "base_uri": "https://localhost:8080/"
        },
        "id": "AbXo585mMtmW",
        "outputId": "c3c87330-b141-40b1-9024-4a53bcc8f0d4"
      },
      "execution_count": 32,
      "outputs": [
        {
          "output_type": "stream",
          "name": "stdout",
          "text": [
            "[[ 2  3 16 13 11]\n",
            " [ 6  5  7  6 15]\n",
            " [11  3 13  5  1]]\n"
          ]
        },
        {
          "output_type": "execute_result",
          "data": {
            "text/plain": [
              "array([[ 2,  3,  0, 13, 11],\n",
              "       [ 6,  5,  7,  6,  0],\n",
              "       [11,  3,  0,  5,  1]])"
            ]
          },
          "metadata": {},
          "execution_count": 32
        }
      ]
    },
    {
      "cell_type": "code",
      "source": [
        "#Create a 2-dimensional array of size 4 x 3 (composed of 4-byte integer elements), also print the shape, type and data type of the array.\n",
        "arr1=np.random.randint(1,20,(4,3),dtype='int32')\n",
        "print(arr1.shape)\n",
        "print(type(arr1))\n",
        "print(arr1.dtype)"
      ],
      "metadata": {
        "colab": {
          "base_uri": "https://localhost:8080/"
        },
        "id": "g0hmWhlAPSJO",
        "outputId": "6ccf4b14-4791-4100-9df2-2089e8f7395a"
      },
      "execution_count": 33,
      "outputs": [
        {
          "output_type": "stream",
          "name": "stdout",
          "text": [
            "(4, 3)\n",
            "<class 'numpy.ndarray'>\n",
            "int32\n"
          ]
        }
      ]
    },
    {
      "cell_type": "code",
      "source": [
        "#b\n",
        "arr2=np.array([[3,-2],[1,0]])\n",
        "#eigen values and eigen vectors\n",
        "ev, evec = np.linalg.eig(arr2)\n",
        "print(ev)\n",
        "print(evec)"
      ],
      "metadata": {
        "colab": {
          "base_uri": "https://localhost:8080/"
        },
        "id": "rP94F0H9R0da",
        "outputId": "ddd4e43c-d609-4b3d-cfb7-4f7d3134c092"
      },
      "execution_count": 34,
      "outputs": [
        {
          "output_type": "stream",
          "name": "stdout",
          "text": [
            "[2. 1.]\n",
            "[[0.89442719 0.70710678]\n",
            " [0.4472136  0.70710678]]\n"
          ]
        }
      ]
    },
    {
      "cell_type": "code",
      "source": [
        "#c\n",
        "arr3=np.array([[0,1,2],[3,4,5]])\n",
        "#sum of diagonal elements\n",
        "print(np.trace(arr3))"
      ],
      "metadata": {
        "colab": {
          "base_uri": "https://localhost:8080/"
        },
        "id": "WfCrrWB6Tt43",
        "outputId": "7d82ccdf-046f-4dca-d9dc-ca23b0570bd7"
      },
      "execution_count": 35,
      "outputs": [
        {
          "output_type": "stream",
          "name": "stdout",
          "text": [
            "4\n"
          ]
        }
      ]
    },
    {
      "cell_type": "code",
      "source": [
        "#d\n",
        "arr4=np.array([1,2,3,4,5,6])\n",
        "#reshaping to 3*2\n",
        "arr5=arr4.reshape(3,2)\n",
        "print(arr5)\n",
        "print()\n",
        "#reshaping to 2*3\n",
        "arr6=arr4.reshape(2,3)\n",
        "print(arr6)"
      ],
      "metadata": {
        "colab": {
          "base_uri": "https://localhost:8080/"
        },
        "id": "SUsRi6qfUmS5",
        "outputId": "130b7a0e-1ba5-4804-a232-7d02ecf1c368"
      },
      "execution_count": 36,
      "outputs": [
        {
          "output_type": "stream",
          "name": "stdout",
          "text": [
            "[[1 2]\n",
            " [3 4]\n",
            " [5 6]]\n",
            "\n",
            "[[1 2 3]\n",
            " [4 5 6]]\n"
          ]
        }
      ]
    },
    {
      "cell_type": "markdown",
      "source": [
        "### 2.Matplotlib"
      ],
      "metadata": {
        "id": "KkQfEl06eLyy"
      }
    },
    {
      "cell_type": "code",
      "source": [
        "import matplotlib.pyplot as plt"
      ],
      "metadata": {
        "id": "pGuqlOfjWI4C"
      },
      "execution_count": 37,
      "outputs": []
    },
    {
      "cell_type": "code",
      "source": [
        "def func(pct, allvalues):\n",
        "    absolute = int(pct / 100.*np.sum(allvalues))\n",
        "    return \"{:.1f}%\\n({:d} g)\".format(pct, absolute)\n",
        "\n",
        "data=[22.2, 17.6, 8.8, 8, 7.7, 6.7]\n",
        "languages=['Java', 'Python', 'PHP', 'JavaScript', 'C#', 'C++']\n",
        "cols=['blue','orange','green','red','magenta','brown']\n",
        "ex=(0.2, 0.0, 0.0, 0.0, 0.0, 0.0)\n",
        "wp = { 'linewidth' : 1, 'edgecolor' : \"black\" }\n",
        "fig, ax = plt.subplots(figsize =(8, 5))\n",
        "w,t,at=ax.pie(data, explode=ex, labels=languages, colors=cols, autopct=lambda pct: func(pct, data), shadow=True,startangle = 135,\n",
        "                                  wedgeprops = wp,\n",
        "                                  textprops = dict(color =\"black\"))\n",
        "plt.show()"
      ],
      "metadata": {
        "colab": {
          "base_uri": "https://localhost:8080/",
          "height": 422
        },
        "id": "_pnrji-RZUTu",
        "outputId": "8c663735-df03-4702-a0a8-e8eabe12f62a"
      },
      "execution_count": 38,
      "outputs": [
        {
          "output_type": "display_data",
          "data": {
            "text/plain": [
              "<Figure size 800x500 with 1 Axes>"
            ],
            "image/png": "[encoded data removed]"
          },
          "metadata": {}
        }
      ]
    },
    {
      "cell_type": "code",
      "source": [],
      "metadata": {
        "id": "U3fFmWyWaHwl"
      },
      "execution_count": 38,
      "outputs": []
    }
  ]
}